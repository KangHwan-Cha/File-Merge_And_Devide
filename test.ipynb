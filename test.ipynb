{
 "cells": [
  {
   "cell_type": "code",
   "execution_count": null,
   "metadata": {},
   "outputs": [],
   "source": [
    "import os\n",
    "print(\"\")"
   ]
  },
  {
   "cell_type": "code",
   "execution_count": null,
   "metadata": {},
   "outputs": [],
   "source": [
    "dwg_file = r\"C:\\Users\\Public\\Documents\\Autodesk\\AutoCAD Mechanical 2018\\Acadm\\Gen\\Lib\\tut_ex02.dwg\"\n",
    "hwp_file = r\"C:\\Users\\Wintek\\Documents\\Sample9\\BlogForm_BookReview.hwp\"\n",
    "ppt_file = r\"C:\\Users\\Wintek\\Downloads\\202308071111132747.pptx\"\n",
    "xl__file = r\"C:\\TeMS+SW\\TEMS+V1.2+C설치+NO추출+NOPDF\\TeMS\\bin\\Debug\\Common\\인계인수서.xlsx\"\n",
    "pdf_file = r\"C:\\Users\\Wintek\\Downloads\\999 설치파일\\1 TeMS_기본 설치 유틸\\4 설치 완료 후 sql 불러오기\\TeMSFiles\\Common\\TeMS.pdf\"\n",
    "no_dwg_file = r\"C:\\Users\\Wintek\\Documents\\Cha_Project\\Programming\\xml_reader\\tests\\TestSet\\Export_Table\\표예시.zip\"\n",
    "file_list = [\n",
    "    dwg_file,\n",
    "    hwp_file,\n",
    "    ppt_file,\n",
    "    xl__file,\n",
    "    pdf_file,\n",
    "    no_dwg_file \n",
    "]\n",
    "result = []\n",
    "for file in file_list:\n",
    "    with open(file, 'rb') as f:\n",
    "        a = f.readlines()\n",
    "        print(os.path.basename(file), a[:1], sep='\\t')\n",
    "        result.append([os.path.basename(file), str(a[:1])])\n",
    "    "
   ]
  },
  {
   "cell_type": "code",
   "execution_count": 1,
   "metadata": {},
   "outputs": [
    {
     "name": "stdout",
     "output_type": "stream",
     "text": [
      "[b'\\x9b DRMONE  This Document is encrypted and protected by Fasoo DRM \\r\\n']\n"
     ]
    }
   ],
   "source": [
    "pdf_file = r\"C:\\Users\\Wintek\\Downloads\\999 설치파일\\1 TeMS_기본 설치 유틸\\4 설치 완료 후 sql 불러오기\\TeMSFiles\\Common\\TeMS.pdf\"\n",
    "with open(pdf_file , 'rb') as f:\n",
    "    a = f.readlines()\n",
    "    print(a[:1])"
   ]
  },
  {
   "cell_type": "code",
   "execution_count": null,
   "metadata": {},
   "outputs": [],
   "source": [
    "import os"
   ]
  },
  {
   "cell_type": "code",
   "execution_count": null,
   "metadata": {},
   "outputs": [],
   "source": [
    "root__ = \"C:/\"\n",
    "result = list()\n",
    "for root, fols, fils in os.walk(root__):\n",
    "    for f in fils:\n",
    "        realpath = os.path.join(root, f)\n",
    "        try:\n",
    "            with open(realpath, 'rb') as f:\n",
    "                line = str(f.readline())\n",
    "                if \"DRM\" in line:\n",
    "                    print(os.path.basename(realpath), line, sep='\\t')\n",
    "                    result.append([os.path.basename(realpath), line])\n",
    "        except:\n",
    "            pass\n",
    "        # print(realpath)"
   ]
  },
  {
   "cell_type": "code",
   "execution_count": null,
   "metadata": {},
   "outputs": [],
   "source": [
    "result"
   ]
  },
  {
   "cell_type": "code",
   "execution_count": null,
   "metadata": {},
   "outputs": [],
   "source": [
    "for file, s in result:\n",
    "    print(s)"
   ]
  }
 ],
 "metadata": {
  "kernelspec": {
   "display_name": "Python 3",
   "language": "python",
   "name": "python3"
  },
  "language_info": {
   "codemirror_mode": {
    "name": "ipython",
    "version": 3
   },
   "file_extension": ".py",
   "mimetype": "text/x-python",
   "name": "python",
   "nbconvert_exporter": "python",
   "pygments_lexer": "ipython3",
   "version": "3.10.5"
  },
  "orig_nbformat": 4
 },
 "nbformat": 4,
 "nbformat_minor": 2
}
